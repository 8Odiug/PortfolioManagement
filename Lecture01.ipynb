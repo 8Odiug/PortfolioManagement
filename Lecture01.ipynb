{
 "cells": [
  {
   "cell_type": "markdown",
   "metadata": {},
   "source": [
    "## Portfolio Management Lecture 01 (WIP)\n",
    "### Fundamentals of Risk & Return"
   ]
  },
  {
   "cell_type": "code",
   "execution_count": 1,
   "metadata": {},
   "outputs": [],
   "source": [
    "# Importing the required libraries\n",
    "import numpy as np # Basic operations\n",
    "import pandas as pd # Data Manipulation\n",
    "import matplotlib.pyplot as plt # Data Visualization \n",
    "from openbb import obb # Market Data Retrieval\n",
    "obb.user.preferences.output_type = 'dataframe'"
   ]
  },
  {
   "cell_type": "markdown",
   "metadata": {},
   "source": [
    "### Getting Market Data\n",
    "There are several data providers of financial-data but I find OpenBB to be perfect for individuals. We'll now download 25 Years of market data to get an idea of expected return and risk of two assets:\n",
    "\n",
    "- The S&P 500 (SPY) is an tracking the performance of the 500 largest companies listed on stock exchanges in the United States.\n",
    "\n",
    "- The Russel 200 (RUT) is used is used to track 2000 US Small Cap Stock. \n",
    "\n",
    "The capitalization of a business is just the product between the number of shares and the market price. "
   ]
  },
  {
   "cell_type": "code",
   "execution_count": 4,
   "metadata": {},
   "outputs": [
    {
     "data": {
      "text/html": [
       "<div>\n",
       "<style scoped>\n",
       "    .dataframe tbody tr th:only-of-type {\n",
       "        vertical-align: middle;\n",
       "    }\n",
       "\n",
       "    .dataframe tbody tr th {\n",
       "        vertical-align: top;\n",
       "    }\n",
       "\n",
       "    .dataframe thead th {\n",
       "        text-align: right;\n",
       "    }\n",
       "</style>\n",
       "<table border=\"1\" class=\"dataframe\">\n",
       "  <thead>\n",
       "    <tr style=\"text-align: right;\">\n",
       "      <th></th>\n",
       "      <th>open</th>\n",
       "      <th>high</th>\n",
       "      <th>low</th>\n",
       "      <th>close</th>\n",
       "      <th>volume</th>\n",
       "      <th>dividend</th>\n",
       "      <th>symbol</th>\n",
       "    </tr>\n",
       "    <tr>\n",
       "      <th>date</th>\n",
       "      <th></th>\n",
       "      <th></th>\n",
       "      <th></th>\n",
       "      <th></th>\n",
       "      <th></th>\n",
       "      <th></th>\n",
       "      <th></th>\n",
       "    </tr>\n",
       "  </thead>\n",
       "  <tbody>\n",
       "    <tr>\n",
       "      <th>2000-01-01</th>\n",
       "      <td>148.250000</td>\n",
       "      <td>148.250000</td>\n",
       "      <td>135.000000</td>\n",
       "      <td>139.562500</td>\n",
       "      <td>156770800</td>\n",
       "      <td>0.000</td>\n",
       "      <td>SPY</td>\n",
       "    </tr>\n",
       "    <tr>\n",
       "      <th>2000-01-01</th>\n",
       "      <td>504.760010</td>\n",
       "      <td>540.599976</td>\n",
       "      <td>467.559998</td>\n",
       "      <td>496.230011</td>\n",
       "      <td>21494400000</td>\n",
       "      <td>0.000</td>\n",
       "      <td>^RUT</td>\n",
       "    </tr>\n",
       "    <tr>\n",
       "      <th>2000-02-01</th>\n",
       "      <td>139.750000</td>\n",
       "      <td>144.562500</td>\n",
       "      <td>132.718750</td>\n",
       "      <td>137.437500</td>\n",
       "      <td>186938300</td>\n",
       "      <td>0.000</td>\n",
       "      <td>SPY</td>\n",
       "    </tr>\n",
       "    <tr>\n",
       "      <th>2000-02-01</th>\n",
       "      <td>496.230011</td>\n",
       "      <td>577.719971</td>\n",
       "      <td>492.649994</td>\n",
       "      <td>577.710022</td>\n",
       "      <td>20912000000</td>\n",
       "      <td>0.000</td>\n",
       "      <td>^RUT</td>\n",
       "    </tr>\n",
       "    <tr>\n",
       "      <th>2000-03-01</th>\n",
       "      <td>137.625000</td>\n",
       "      <td>155.750000</td>\n",
       "      <td>135.031250</td>\n",
       "      <td>150.375000</td>\n",
       "      <td>247594900</td>\n",
       "      <td>0.371</td>\n",
       "      <td>SPY</td>\n",
       "    </tr>\n",
       "  </tbody>\n",
       "</table>\n",
       "</div>"
      ],
      "text/plain": [
       "                  open        high         low       close       volume  \\\n",
       "date                                                                      \n",
       "2000-01-01  148.250000  148.250000  135.000000  139.562500    156770800   \n",
       "2000-01-01  504.760010  540.599976  467.559998  496.230011  21494400000   \n",
       "2000-02-01  139.750000  144.562500  132.718750  137.437500    186938300   \n",
       "2000-02-01  496.230011  577.719971  492.649994  577.710022  20912000000   \n",
       "2000-03-01  137.625000  155.750000  135.031250  150.375000    247594900   \n",
       "\n",
       "            dividend symbol  \n",
       "date                         \n",
       "2000-01-01     0.000    SPY  \n",
       "2000-01-01     0.000   ^RUT  \n",
       "2000-02-01     0.000    SPY  \n",
       "2000-02-01     0.000   ^RUT  \n",
       "2000-03-01     0.371    SPY  "
      ]
     },
     "execution_count": 4,
     "metadata": {},
     "output_type": "execute_result"
    }
   ],
   "source": [
    "data = obb.equity.price.historical('SPY,^RUT',\n",
    "                                  start_date = '2000-01-01',\n",
    "                                  end_date = '2025-01-01',\n",
    "                                  interval = '1M',\n",
    "                                  provider = 'yfinance')\n",
    "data.head() "
   ]
  },
  {
   "cell_type": "code",
   "execution_count": 5,
   "metadata": {},
   "outputs": [
    {
     "data": {
      "text/html": [
       "<div>\n",
       "<style scoped>\n",
       "    .dataframe tbody tr th:only-of-type {\n",
       "        vertical-align: middle;\n",
       "    }\n",
       "\n",
       "    .dataframe tbody tr th {\n",
       "        vertical-align: top;\n",
       "    }\n",
       "\n",
       "    .dataframe thead th {\n",
       "        text-align: right;\n",
       "    }\n",
       "</style>\n",
       "<table border=\"1\" class=\"dataframe\">\n",
       "  <thead>\n",
       "    <tr style=\"text-align: right;\">\n",
       "      <th></th>\n",
       "      <th>S&amp;P 500</th>\n",
       "      <th>Russell 2000</th>\n",
       "    </tr>\n",
       "    <tr>\n",
       "      <th>date</th>\n",
       "      <th></th>\n",
       "      <th></th>\n",
       "    </tr>\n",
       "  </thead>\n",
       "  <tbody>\n",
       "    <tr>\n",
       "      <th>2000-01-01</th>\n",
       "      <td>139.56250</td>\n",
       "      <td>496.230011</td>\n",
       "    </tr>\n",
       "    <tr>\n",
       "      <th>2000-02-01</th>\n",
       "      <td>137.43750</td>\n",
       "      <td>577.710022</td>\n",
       "    </tr>\n",
       "    <tr>\n",
       "      <th>2000-03-01</th>\n",
       "      <td>150.37500</td>\n",
       "      <td>539.090027</td>\n",
       "    </tr>\n",
       "    <tr>\n",
       "      <th>2000-04-01</th>\n",
       "      <td>145.09375</td>\n",
       "      <td>506.250000</td>\n",
       "    </tr>\n",
       "    <tr>\n",
       "      <th>2000-05-01</th>\n",
       "      <td>142.81250</td>\n",
       "      <td>476.179993</td>\n",
       "    </tr>\n",
       "  </tbody>\n",
       "</table>\n",
       "</div>"
      ],
      "text/plain": [
       "              S&P 500  Russell 2000\n",
       "date                               \n",
       "2000-01-01  139.56250    496.230011\n",
       "2000-02-01  137.43750    577.710022\n",
       "2000-03-01  150.37500    539.090027\n",
       "2000-04-01  145.09375    506.250000\n",
       "2000-05-01  142.81250    476.179993"
      ]
     },
     "execution_count": 5,
     "metadata": {},
     "output_type": "execute_result"
    }
   ],
   "source": [
    "# Data Manipulation \n",
    "prices = data.pivot(columns = 'symbol', values = 'close')\n",
    "prices.columns = ['S&P 500', 'Russell 2000']\n",
    "prices.head()"
   ]
  },
  {
   "cell_type": "code",
   "execution_count": 6,
   "metadata": {},
   "outputs": [
    {
     "data": {
      "text/html": [
       "<div>\n",
       "<style scoped>\n",
       "    .dataframe tbody tr th:only-of-type {\n",
       "        vertical-align: middle;\n",
       "    }\n",
       "\n",
       "    .dataframe tbody tr th {\n",
       "        vertical-align: top;\n",
       "    }\n",
       "\n",
       "    .dataframe thead th {\n",
       "        text-align: right;\n",
       "    }\n",
       "</style>\n",
       "<table border=\"1\" class=\"dataframe\">\n",
       "  <thead>\n",
       "    <tr style=\"text-align: right;\">\n",
       "      <th></th>\n",
       "      <th>S&amp;P 500</th>\n",
       "      <th>Russell 2000</th>\n",
       "    </tr>\n",
       "    <tr>\n",
       "      <th>date</th>\n",
       "      <th></th>\n",
       "      <th></th>\n",
       "    </tr>\n",
       "  </thead>\n",
       "  <tbody>\n",
       "    <tr>\n",
       "      <th>2000-02-01</th>\n",
       "      <td>-0.015226</td>\n",
       "      <td>0.164198</td>\n",
       "    </tr>\n",
       "    <tr>\n",
       "      <th>2000-03-01</th>\n",
       "      <td>0.094134</td>\n",
       "      <td>-0.066850</td>\n",
       "    </tr>\n",
       "    <tr>\n",
       "      <th>2000-04-01</th>\n",
       "      <td>-0.035121</td>\n",
       "      <td>-0.060918</td>\n",
       "    </tr>\n",
       "    <tr>\n",
       "      <th>2000-05-01</th>\n",
       "      <td>-0.015723</td>\n",
       "      <td>-0.059398</td>\n",
       "    </tr>\n",
       "    <tr>\n",
       "      <th>2000-06-01</th>\n",
       "      <td>0.017287</td>\n",
       "      <td>0.086207</td>\n",
       "    </tr>\n",
       "    <tr>\n",
       "      <th>...</th>\n",
       "      <td>...</td>\n",
       "      <td>...</td>\n",
       "    </tr>\n",
       "    <tr>\n",
       "      <th>2024-09-01</th>\n",
       "      <td>0.017883</td>\n",
       "      <td>0.005565</td>\n",
       "    </tr>\n",
       "    <tr>\n",
       "      <th>2024-10-01</th>\n",
       "      <td>-0.008924</td>\n",
       "      <td>-0.014942</td>\n",
       "    </tr>\n",
       "    <tr>\n",
       "      <th>2024-11-01</th>\n",
       "      <td>0.059633</td>\n",
       "      <td>0.108383</td>\n",
       "    </tr>\n",
       "    <tr>\n",
       "      <th>2024-12-01</th>\n",
       "      <td>-0.027334</td>\n",
       "      <td>-0.084022</td>\n",
       "    </tr>\n",
       "    <tr>\n",
       "      <th>2025-01-01</th>\n",
       "      <td>0.026856</td>\n",
       "      <td>0.025796</td>\n",
       "    </tr>\n",
       "  </tbody>\n",
       "</table>\n",
       "<p>300 rows × 2 columns</p>\n",
       "</div>"
      ],
      "text/plain": [
       "             S&P 500  Russell 2000\n",
       "date                              \n",
       "2000-02-01 -0.015226      0.164198\n",
       "2000-03-01  0.094134     -0.066850\n",
       "2000-04-01 -0.035121     -0.060918\n",
       "2000-05-01 -0.015723     -0.059398\n",
       "2000-06-01  0.017287      0.086207\n",
       "...              ...           ...\n",
       "2024-09-01  0.017883      0.005565\n",
       "2024-10-01 -0.008924     -0.014942\n",
       "2024-11-01  0.059633      0.108383\n",
       "2024-12-01 -0.027334     -0.084022\n",
       "2025-01-01  0.026856      0.025796\n",
       "\n",
       "[300 rows x 2 columns]"
      ]
     },
     "execution_count": 6,
     "metadata": {},
     "output_type": "execute_result"
    }
   ],
   "source": [
    "# Computing Financial Returns \n",
    "rets = prices.pct_change()[1:]\n",
    "rets "
   ]
  },
  {
   "cell_type": "code",
   "execution_count": 18,
   "metadata": {},
   "outputs": [
    {
     "name": "stdout",
     "output_type": "stream",
     "text": [
      "\n",
      "      The Total Return for the S&P 500 is: 331.22%\n",
      "      The Total Return for the Russell 2000 is: 361.01%\n",
      "      \n"
     ]
    }
   ],
   "source": [
    "# Computing total return\n",
    "total_return = (1+rets).cumprod() -1 \n",
    "\n",
    "print(\n",
    "    f\"\"\"\n",
    "      The Total Return for the S&P 500 is: {round(total_return.iloc[-1]['S&P 500'] * 100, 2)}%\n",
    "      The Total Return for the Russell 2000 is: {round(total_return.iloc[-1]['Russell 2000'] * 100, 2)}%\n",
    "      \"\"\"\n",
    "      )"
   ]
  },
  {
   "cell_type": "code",
   "execution_count": 19,
   "metadata": {},
   "outputs": [
    {
     "data": {
      "text/plain": [
       "<matplotlib.legend.Legend at 0x789b1b4f4200>"
      ]
     },
     "execution_count": 19,
     "metadata": {},
     "output_type": "execute_result"
    },
    {
     "data": {
      "image/png": "[encoded data removed]",
      "text/plain": [
       "<Figure size 640x480 with 1 Axes>"
      ]
     },
     "metadata": {},
     "output_type": "display_data"
    }
   ],
   "source": [
    "# Visualizing the Total Return\n",
    "plt.plot(total_return['S&P 500'],\n",
    "         label='S&P 500',\n",
    "         linewidth= 0.8,\n",
    "         color='red')\n",
    "\n",
    "plt.plot(total_return['Russell 2000'],\n",
    "         label='Russell 2000',\n",
    "         linewidth= 0.8,\n",
    "         color='blue')\n",
    "\n",
    "\n",
    "plt.title('Total Return Comparison: S&P 500 vs Russell 2000', fontsize=10)\n",
    "plt.xlabel('Date')\n",
    "plt.ylabel('Total Return')\n",
    "plt.legend() "
   ]
  },
  {
   "cell_type": "markdown",
   "metadata": {},
   "source": [
    "One can notice that small-cap stocks tend to produce higher returns. This relation helps us define: **The risk-return tradeoff**. A simple rule according to which the potential return tends to rise with an increase in risk"
   ]
  },
  {
   "cell_type": "markdown",
   "metadata": {},
   "source": [
    "### Computing Annualized Returns\n",
    "For better comparison it is useful to compute annualized returns. The annualized return represents the geometric mean annual return over the investment period. \n"
   ]
  },
  {
   "cell_type": "code",
   "execution_count": 21,
   "metadata": {},
   "outputs": [
    {
     "data": {
      "text/plain": [
       "S&P 500         2.413078\n",
       "Russell 2000    2.610105\n",
       "dtype: float64"
      ]
     },
     "execution_count": 21,
     "metadata": {},
     "output_type": "execute_result"
    }
   ],
   "source": [
    "\n",
    "n_obs = rets.shape[0]\n",
    "annualized_ret = (rets+1).prod()**(252/n_obs) - 1\n",
    "annualized_ret"
   ]
  },
  {
   "cell_type": "markdown",
   "metadata": {},
   "source": [
    "### Computing Annualized Vol"
   ]
  },
  {
   "cell_type": "code",
   "execution_count": 24,
   "metadata": {},
   "outputs": [
    {
     "data": {
      "text/plain": [
       "S&P 500         0.153202\n",
       "Russell 2000    0.204948\n",
       "dtype: float64"
      ]
     },
     "execution_count": 24,
     "metadata": {},
     "output_type": "execute_result"
    }
   ],
   "source": [
    "n = 12 \n",
    "annualized_vol = rets.std() * np.sqrt(n)\n",
    "annualized_vol "
   ]
  },
  {
   "cell_type": "code",
   "execution_count": 25,
   "metadata": {},
   "outputs": [
    {
     "data": {
      "text/plain": [
       "S&P 500         15.620377\n",
       "Russell 2000    12.637864\n",
       "dtype: float64"
      ]
     },
     "execution_count": 25,
     "metadata": {},
     "output_type": "execute_result"
    }
   ],
   "source": [
    "# Computing risk-adjusted return \n",
    "rfr = 0.02 # Risk-Free Rate \n",
    "sharpe_ratio = (annualized_ret - rfr) / annualized_vol \n",
    "sharpe_ratio  "
   ]
  }
 ],
 "metadata": {
  "kernelspec": {
   "display_name": "Python 3",
   "language": "python",
   "name": "python3"
  },
  "language_info": {
   "codemirror_mode": {
    "name": "ipython",
    "version": 3
   },
   "file_extension": ".py",
   "mimetype": "text/x-python",
   "name": "python",
   "nbconvert_exporter": "python",
   "pygments_lexer": "ipython3",
   "version": "3.12.1"
  }
 },
 "nbformat": 4,
 "nbformat_minor": 2
}
