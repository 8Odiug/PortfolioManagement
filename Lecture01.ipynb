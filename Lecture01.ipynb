{
 "cells": [
  {
   "cell_type": "markdown",
   "metadata": {},
   "source": [
    "## Portfolio Management Lecture 01\n",
    "### Fundamentals of Risk & Return"
   ]
  },
  {
   "cell_type": "code",
   "execution_count": 2,
   "metadata": {},
   "outputs": [],
   "source": [
    "# Importing the required libraries\n",
    "import numpy as np # Basic operations\n",
    "import pandas as pd # Data Manipulation\n",
    "import matplotlib.pyplot as plt # Data Visualization \n",
    "from openbb import obb # Market Data Retrieval\n",
    "obb.user.preferences.output_type = 'dataframe'"
   ]
  },
  {
   "cell_type": "markdown",
   "metadata": {},
   "source": [
    "### Getting Market Data"
   ]
  },
  {
   "cell_type": "code",
   "execution_count": null,
   "metadata": {},
   "outputs": [
    {
     "data": {
      "text/html": [
       "<div>\n",
       "<style scoped>\n",
       "    .dataframe tbody tr th:only-of-type {\n",
       "        vertical-align: middle;\n",
       "    }\n",
       "\n",
       "    .dataframe tbody tr th {\n",
       "        vertical-align: top;\n",
       "    }\n",
       "\n",
       "    .dataframe thead th {\n",
       "        text-align: right;\n",
       "    }\n",
       "</style>\n",
       "<table border=\"1\" class=\"dataframe\">\n",
       "  <thead>\n",
       "    <tr style=\"text-align: right;\">\n",
       "      <th></th>\n",
       "      <th>open</th>\n",
       "      <th>high</th>\n",
       "      <th>low</th>\n",
       "      <th>close</th>\n",
       "      <th>volume</th>\n",
       "      <th>dividend</th>\n",
       "      <th>symbol</th>\n",
       "    </tr>\n",
       "    <tr>\n",
       "      <th>date</th>\n",
       "      <th></th>\n",
       "      <th></th>\n",
       "      <th></th>\n",
       "      <th></th>\n",
       "      <th></th>\n",
       "      <th></th>\n",
       "      <th></th>\n",
       "    </tr>\n",
       "  </thead>\n",
       "  <tbody>\n",
       "    <tr>\n",
       "      <th>2000-01-03</th>\n",
       "      <td>148.250000</td>\n",
       "      <td>148.250000</td>\n",
       "      <td>143.875000</td>\n",
       "      <td>145.437500</td>\n",
       "      <td>8164300</td>\n",
       "      <td>0.0</td>\n",
       "      <td>SPY</td>\n",
       "    </tr>\n",
       "    <tr>\n",
       "      <th>2000-01-03</th>\n",
       "      <td>504.760010</td>\n",
       "      <td>510.959991</td>\n",
       "      <td>489.950012</td>\n",
       "      <td>496.420013</td>\n",
       "      <td>931800000</td>\n",
       "      <td>0.0</td>\n",
       "      <td>^RUT</td>\n",
       "    </tr>\n",
       "    <tr>\n",
       "      <th>2000-01-04</th>\n",
       "      <td>143.531250</td>\n",
       "      <td>144.062500</td>\n",
       "      <td>139.640625</td>\n",
       "      <td>139.750000</td>\n",
       "      <td>8089800</td>\n",
       "      <td>0.0</td>\n",
       "      <td>SPY</td>\n",
       "    </tr>\n",
       "    <tr>\n",
       "      <th>2000-01-04</th>\n",
       "      <td>497.049988</td>\n",
       "      <td>497.049988</td>\n",
       "      <td>478.200012</td>\n",
       "      <td>478.380005</td>\n",
       "      <td>1009000000</td>\n",
       "      <td>0.0</td>\n",
       "      <td>^RUT</td>\n",
       "    </tr>\n",
       "    <tr>\n",
       "      <th>2000-01-05</th>\n",
       "      <td>139.937500</td>\n",
       "      <td>141.531250</td>\n",
       "      <td>137.250000</td>\n",
       "      <td>140.000000</td>\n",
       "      <td>12177900</td>\n",
       "      <td>0.0</td>\n",
       "      <td>SPY</td>\n",
       "    </tr>\n",
       "  </tbody>\n",
       "</table>\n",
       "</div>"
      ],
      "text/plain": [
       "                  open        high         low       close      volume  \\\n",
       "date                                                                     \n",
       "2000-01-03  148.250000  148.250000  143.875000  145.437500     8164300   \n",
       "2000-01-03  504.760010  510.959991  489.950012  496.420013   931800000   \n",
       "2000-01-04  143.531250  144.062500  139.640625  139.750000     8089800   \n",
       "2000-01-04  497.049988  497.049988  478.200012  478.380005  1009000000   \n",
       "2000-01-05  139.937500  141.531250  137.250000  140.000000    12177900   \n",
       "\n",
       "            dividend symbol  \n",
       "date                         \n",
       "2000-01-03       0.0    SPY  \n",
       "2000-01-03       0.0   ^RUT  \n",
       "2000-01-04       0.0    SPY  \n",
       "2000-01-04       0.0   ^RUT  \n",
       "2000-01-05       0.0    SPY  "
      ]
     },
     "execution_count": 3,
     "metadata": {},
     "output_type": "execute_result"
    }
   ],
   "source": [
    "data = obb.equity.price.historical('SPY,^RUT',\n",
    "                                  start_date = '2000-01-01',\n",
    "                                  end_date = '2025-01-01',\n",
    "                                  provider = 'yfinance')\n",
    "data.head() "
   ]
  },
  {
   "cell_type": "code",
   "execution_count": 7,
   "metadata": {},
   "outputs": [
    {
     "data": {
      "text/html": [
       "<div>\n",
       "<style scoped>\n",
       "    .dataframe tbody tr th:only-of-type {\n",
       "        vertical-align: middle;\n",
       "    }\n",
       "\n",
       "    .dataframe tbody tr th {\n",
       "        vertical-align: top;\n",
       "    }\n",
       "\n",
       "    .dataframe thead th {\n",
       "        text-align: right;\n",
       "    }\n",
       "</style>\n",
       "<table border=\"1\" class=\"dataframe\">\n",
       "  <thead>\n",
       "    <tr style=\"text-align: right;\">\n",
       "      <th></th>\n",
       "      <th>S&amp;P 500</th>\n",
       "      <th>Russell 2000</th>\n",
       "    </tr>\n",
       "    <tr>\n",
       "      <th>date</th>\n",
       "      <th></th>\n",
       "      <th></th>\n",
       "    </tr>\n",
       "  </thead>\n",
       "  <tbody>\n",
       "    <tr>\n",
       "      <th>2000-01-03</th>\n",
       "      <td>145.4375</td>\n",
       "      <td>496.420013</td>\n",
       "    </tr>\n",
       "    <tr>\n",
       "      <th>2000-01-04</th>\n",
       "      <td>139.7500</td>\n",
       "      <td>478.380005</td>\n",
       "    </tr>\n",
       "    <tr>\n",
       "      <th>2000-01-05</th>\n",
       "      <td>140.0000</td>\n",
       "      <td>478.829987</td>\n",
       "    </tr>\n",
       "    <tr>\n",
       "      <th>2000-01-06</th>\n",
       "      <td>137.7500</td>\n",
       "      <td>475.339996</td>\n",
       "    </tr>\n",
       "    <tr>\n",
       "      <th>2000-01-07</th>\n",
       "      <td>145.7500</td>\n",
       "      <td>488.309998</td>\n",
       "    </tr>\n",
       "  </tbody>\n",
       "</table>\n",
       "</div>"
      ],
      "text/plain": [
       "             S&P 500  Russell 2000\n",
       "date                              \n",
       "2000-01-03  145.4375    496.420013\n",
       "2000-01-04  139.7500    478.380005\n",
       "2000-01-05  140.0000    478.829987\n",
       "2000-01-06  137.7500    475.339996\n",
       "2000-01-07  145.7500    488.309998"
      ]
     },
     "execution_count": 7,
     "metadata": {},
     "output_type": "execute_result"
    }
   ],
   "source": [
    "# Data Manipulation \n",
    "prices = data.pivot(columns = 'symbol', values = 'close')\n",
    "prices.columns = ['S&P 500', 'Russell 2000']\n",
    "prices.head()"
   ]
  },
  {
   "cell_type": "code",
   "execution_count": 15,
   "metadata": {},
   "outputs": [
    {
     "data": {
      "text/html": [
       "<div>\n",
       "<style scoped>\n",
       "    .dataframe tbody tr th:only-of-type {\n",
       "        vertical-align: middle;\n",
       "    }\n",
       "\n",
       "    .dataframe tbody tr th {\n",
       "        vertical-align: top;\n",
       "    }\n",
       "\n",
       "    .dataframe thead th {\n",
       "        text-align: right;\n",
       "    }\n",
       "</style>\n",
       "<table border=\"1\" class=\"dataframe\">\n",
       "  <thead>\n",
       "    <tr style=\"text-align: right;\">\n",
       "      <th></th>\n",
       "      <th>S&amp;P 500</th>\n",
       "      <th>Russell 2000</th>\n",
       "    </tr>\n",
       "    <tr>\n",
       "      <th>date</th>\n",
       "      <th></th>\n",
       "      <th></th>\n",
       "    </tr>\n",
       "  </thead>\n",
       "  <tbody>\n",
       "    <tr>\n",
       "      <th>2000-01-04</th>\n",
       "      <td>-0.039106</td>\n",
       "      <td>-0.036340</td>\n",
       "    </tr>\n",
       "    <tr>\n",
       "      <th>2000-01-05</th>\n",
       "      <td>0.001789</td>\n",
       "      <td>0.000941</td>\n",
       "    </tr>\n",
       "    <tr>\n",
       "      <th>2000-01-06</th>\n",
       "      <td>-0.016071</td>\n",
       "      <td>-0.007289</td>\n",
       "    </tr>\n",
       "    <tr>\n",
       "      <th>2000-01-07</th>\n",
       "      <td>0.058076</td>\n",
       "      <td>0.027286</td>\n",
       "    </tr>\n",
       "    <tr>\n",
       "      <th>2000-01-10</th>\n",
       "      <td>0.003431</td>\n",
       "      <td>0.027810</td>\n",
       "    </tr>\n",
       "    <tr>\n",
       "      <th>...</th>\n",
       "      <td>...</td>\n",
       "      <td>...</td>\n",
       "    </tr>\n",
       "    <tr>\n",
       "      <th>2024-12-24</th>\n",
       "      <td>0.011115</td>\n",
       "      <td>0.010016</td>\n",
       "    </tr>\n",
       "    <tr>\n",
       "      <th>2024-12-26</th>\n",
       "      <td>0.000067</td>\n",
       "      <td>0.009001</td>\n",
       "    </tr>\n",
       "    <tr>\n",
       "      <th>2024-12-27</th>\n",
       "      <td>-0.010527</td>\n",
       "      <td>-0.015613</td>\n",
       "    </tr>\n",
       "    <tr>\n",
       "      <th>2024-12-30</th>\n",
       "      <td>-0.011412</td>\n",
       "      <td>-0.007489</td>\n",
       "    </tr>\n",
       "    <tr>\n",
       "      <th>2024-12-31</th>\n",
       "      <td>-0.003638</td>\n",
       "      <td>0.001068</td>\n",
       "    </tr>\n",
       "  </tbody>\n",
       "</table>\n",
       "<p>6288 rows × 2 columns</p>\n",
       "</div>"
      ],
      "text/plain": [
       "             S&P 500  Russell 2000\n",
       "date                              \n",
       "2000-01-04 -0.039106     -0.036340\n",
       "2000-01-05  0.001789      0.000941\n",
       "2000-01-06 -0.016071     -0.007289\n",
       "2000-01-07  0.058076      0.027286\n",
       "2000-01-10  0.003431      0.027810\n",
       "...              ...           ...\n",
       "2024-12-24  0.011115      0.010016\n",
       "2024-12-26  0.000067      0.009001\n",
       "2024-12-27 -0.010527     -0.015613\n",
       "2024-12-30 -0.011412     -0.007489\n",
       "2024-12-31 -0.003638      0.001068\n",
       "\n",
       "[6288 rows x 2 columns]"
      ]
     },
     "execution_count": 15,
     "metadata": {},
     "output_type": "execute_result"
    }
   ],
   "source": [
    "# Computing Financial Returns \n",
    "rets = prices.pct_change()[1:]\n",
    "rets "
   ]
  },
  {
   "cell_type": "code",
   "execution_count": 42,
   "metadata": {},
   "outputs": [
    {
     "name": "stdout",
     "output_type": "stream",
     "text": [
      "\n",
      "      The Total Return for the S&P 500 is: 3.0297723564406835\n",
      "      The Total Return for the Russell 2000 is: 3.4924859026338018\n",
      "      \n"
     ]
    },
    {
     "name": "stderr",
     "output_type": "stream",
     "text": [
      "/tmp/ipykernel_87449/4019826018.py:6: FutureWarning: Series.__getitem__ treating keys as positions is deprecated. In a future version, integer keys will always be treated as labels (consistent with DataFrame behavior). To access a value by position, use `ser.iloc[pos]`\n",
      "  The Total Return for the S&P 500 is: {total_return['S&P 500'][-1]}\n",
      "/tmp/ipykernel_87449/4019826018.py:7: FutureWarning: Series.__getitem__ treating keys as positions is deprecated. In a future version, integer keys will always be treated as labels (consistent with DataFrame behavior). To access a value by position, use `ser.iloc[pos]`\n",
      "  The Total Return for the Russell 2000 is: {total_return['Russell 2000'][-1]}\n"
     ]
    }
   ],
   "source": [
    "# Computing total return\n",
    "total_return = (1+rets).cumprod() -1 \n",
    "\n",
    "print(\n",
    "    f\"\"\"\n",
    "      The Total Return for the S&P 500 is: {total_return['S&P 500'][-1]}\n",
    "      The Total Return for the Russell 2000 is: {total_return['Russell 2000'][-1]}\n",
    "      \"\"\"\n",
    "      )"
   ]
  },
  {
   "cell_type": "code",
   "execution_count": 57,
   "metadata": {},
   "outputs": [
    {
     "data": {
      "text/plain": [
       "<matplotlib.legend.Legend at 0x735b5a2452e0>"
      ]
     },
     "execution_count": 57,
     "metadata": {},
     "output_type": "execute_result"
    },
    {
     "data": {
      "image/png": "[encoded data removed]",
      "text/plain": [
       "<Figure size 640x480 with 1 Axes>"
      ]
     },
     "metadata": {},
     "output_type": "display_data"
    }
   ],
   "source": [
    "# Visualizing the Total Return\n",
    "plt.plot(total_return['S&P 500'],\n",
    "         label='S&P 500',\n",
    "         linewidth= 0.8,\n",
    "         color='red')\n",
    "\n",
    "plt.plot(total_return['Russell 2000'],\n",
    "         label='Russell 2000',\n",
    "         linewidth= 0.8,\n",
    "         color='blue')\n",
    "\n",
    "\n",
    "plt.title('Total Return Comparison: S&P 500 vs Russell 2000', fontsize=10)\n",
    "plt.xlabel('Date')\n",
    "plt.ylabel('Total Return')\n",
    "plt.style.use('dark_background')\n",
    "plt.legend() "
   ]
  },
  {
   "cell_type": "code",
   "execution_count": 45,
   "metadata": {},
   "outputs": [
    {
     "data": {
      "text/plain": [
       "S&P 500         0.057444\n",
       "Russell 2000    0.062061\n",
       "dtype: float64"
      ]
     },
     "execution_count": 45,
     "metadata": {},
     "output_type": "execute_result"
    }
   ],
   "source": [
    "# Computing Annualized Returns\n",
    "n_obs = rets.shape[0]\n",
    "annualized_ret = (rets+1).prod()**(252/n_obs) - 1\n",
    "annualized_ret"
   ]
  },
  {
   "cell_type": "code",
   "execution_count": 46,
   "metadata": {},
   "outputs": [
    {
     "data": {
      "text/plain": [
       "S&P 500         0.194292\n",
       "Russell 2000    0.244441\n",
       "dtype: float64"
      ]
     },
     "execution_count": 46,
     "metadata": {},
     "output_type": "execute_result"
    }
   ],
   "source": [
    "# Computing Annualized Vol \n",
    "n = 252 \n",
    "annualized_vol = rets.std() * np.sqrt(n)\n",
    "annualized_vol "
   ]
  },
  {
   "cell_type": "code",
   "execution_count": null,
   "metadata": {},
   "outputs": [
    {
     "data": {
      "text/plain": [
       "S&P 500         0.192721\n",
       "Russell 2000    0.172068\n",
       "dtype: float64"
      ]
     },
     "execution_count": 58,
     "metadata": {},
     "output_type": "execute_result"
    }
   ],
   "source": [
    "# Computing risk-adjusted return \n",
    "rfr = 0.02 # Risk-Free Rate \n",
    "sharpe_ratio = (annualized_ret - rfr) / annualized_vol \n",
    "sharpe_ratio  "
   ]
  }
 ],
 "metadata": {
  "kernelspec": {
   "display_name": "Python 3",
   "language": "python",
   "name": "python3"
  },
  "language_info": {
   "codemirror_mode": {
    "name": "ipython",
    "version": 3
   },
   "file_extension": ".py",
   "mimetype": "text/x-python",
   "name": "python",
   "nbconvert_exporter": "python",
   "pygments_lexer": "ipython3",
   "version": "3.12.1"
  }
 },
 "nbformat": 4,
 "nbformat_minor": 2
}
