{
 "cells": [
  {
   "cell_type": "markdown",
   "metadata": {},
   "source": [
    "# Portfolio Management Lecture 05\n",
    "### Basis of Portfolio Construction & Optimization"
   ]
  },
  {
   "cell_type": "markdown",
   "metadata": {},
   "source": [
    "This lecture will present a brief introduction to **Portfolio Construction**. It is now clear that financial instruments have 2 common features:\n",
    "\n",
    "- An expected return\n",
    "- A certain degree of risk\n",
    "\n",
    "We also know how to compute measures of return and risk for single assets. But... What happens when we construct portfolios with multiple instruments? And for what reason should we do that?\n",
    "\n",
    "A single word: **Diversification**.\n",
    "\n",
    "Remember that **the goal of portfolio management is to target a certain return while lowering risk as much as possible**. To reap the benefits of diversification one needs to invest:\n",
    "\n",
    "- in multiple instruments\n",
    "- across different countries and industries"
   ]
  },
  {
   "cell_type": "markdown",
   "metadata": {},
   "source": [
    "The following parameters are needed to dive deep into Portfolio Construction and Optimization:\n",
    "\n",
    "- Portfolio Return\n",
    "- Portfolio Standard Deviation (Risk)\n",
    "\n",
    "Portfolio return is just the weighted average of the returns of the portfolio components\n",
    "\n",
    "$$\n",
    "R_p = \\sum_{i=1}^{n} w_i R_i\n",
    "$$\n",
    "\n",
    "**Portfolio Standard Deviation** is more complex. In fact, its value is a function of the **correlation** between its components. Imagine having a portfolio with two assets - the variance of the portfolio would have to be computed using the following formula:\n",
    "\n",
    "$$\n",
    "\\sigma_p^2 = w_1^2 \\sigma_1^2 + w_2^2 \\sigma_2^2 + 2 w_1 w_2 \\sigma_1 \\sigma_2 \\rho_{12}\n",
    "$$\n",
    "\n",
    "We can use some matrix algebra to shorten these formulas!\n",
    "\n",
    "$$\n",
    "R_p = w^{T} R\n",
    "$$\n",
    "\n",
    "$$\n",
    "\\sigma_p^2 = w^{T} \\sum w\n",
    "$$\n"
   ]
  },
  {
   "cell_type": "markdown",
   "metadata": {},
   "source": [
    "Let's create a simple portfolio! "
   ]
  },
  {
   "cell_type": "code",
   "execution_count": 1,
   "metadata": {},
   "outputs": [],
   "source": [
    "# import the required libraries \n",
    "import numpy as np # Basic operations\n",
    "import pandas as pd # Data Manipulation\n",
    "import matplotlib.pyplot as plt # Data Visualization \n",
    "from openbb import obb # Market Data Retrieval\n",
    "obb.user.preferences.output_type = 'dataframe'"
   ]
  },
  {
   "cell_type": "code",
   "execution_count": null,
   "metadata": {},
   "outputs": [
    {
     "data": {
      "text/html": [
       "<div>\n",
       "<style scoped>\n",
       "    .dataframe tbody tr th:only-of-type {\n",
       "        vertical-align: middle;\n",
       "    }\n",
       "\n",
       "    .dataframe tbody tr th {\n",
       "        vertical-align: top;\n",
       "    }\n",
       "\n",
       "    .dataframe thead th {\n",
       "        text-align: right;\n",
       "    }\n",
       "</style>\n",
       "<table border=\"1\" class=\"dataframe\">\n",
       "  <thead>\n",
       "    <tr style=\"text-align: right;\">\n",
       "      <th></th>\n",
       "      <th>open</th>\n",
       "      <th>high</th>\n",
       "      <th>low</th>\n",
       "      <th>close</th>\n",
       "      <th>volume</th>\n",
       "      <th>split_ratio</th>\n",
       "      <th>dividend</th>\n",
       "      <th>symbol</th>\n",
       "    </tr>\n",
       "    <tr>\n",
       "      <th>date</th>\n",
       "      <th></th>\n",
       "      <th></th>\n",
       "      <th></th>\n",
       "      <th></th>\n",
       "      <th></th>\n",
       "      <th></th>\n",
       "      <th></th>\n",
       "      <th></th>\n",
       "    </tr>\n",
       "  </thead>\n",
       "  <tbody>\n",
       "    <tr>\n",
       "      <th>2020-01-01</th>\n",
       "      <td>216.600006</td>\n",
       "      <td>231.139999</td>\n",
       "      <td>199.500000</td>\n",
       "      <td>206.589996</td>\n",
       "      <td>304096100</td>\n",
       "      <td>0.0</td>\n",
       "      <td>0.0</td>\n",
       "      <td>BABA</td>\n",
       "    </tr>\n",
       "    <tr>\n",
       "      <th>2020-01-01</th>\n",
       "      <td>67.420502</td>\n",
       "      <td>75.028999</td>\n",
       "      <td>67.324501</td>\n",
       "      <td>71.639000</td>\n",
       "      <td>673594000</td>\n",
       "      <td>0.0</td>\n",
       "      <td>0.0</td>\n",
       "      <td>GOOGL</td>\n",
       "    </tr>\n",
       "    <tr>\n",
       "      <th>2020-01-01</th>\n",
       "      <td>5.968750</td>\n",
       "      <td>6.487500</td>\n",
       "      <td>5.781750</td>\n",
       "      <td>5.910750</td>\n",
       "      <td>6125412000</td>\n",
       "      <td>0.0</td>\n",
       "      <td>0.0</td>\n",
       "      <td>NVDA</td>\n",
       "    </tr>\n",
       "    <tr>\n",
       "      <th>2020-01-01</th>\n",
       "      <td>28.299999</td>\n",
       "      <td>43.533333</td>\n",
       "      <td>28.114000</td>\n",
       "      <td>43.371334</td>\n",
       "      <td>6108277500</td>\n",
       "      <td>0.0</td>\n",
       "      <td>0.0</td>\n",
       "      <td>TSLA</td>\n",
       "    </tr>\n",
       "    <tr>\n",
       "      <th>2020-02-01</th>\n",
       "      <td>208.669998</td>\n",
       "      <td>226.699997</td>\n",
       "      <td>198.561005</td>\n",
       "      <td>208.000000</td>\n",
       "      <td>329489900</td>\n",
       "      <td>0.0</td>\n",
       "      <td>0.0</td>\n",
       "      <td>BABA</td>\n",
       "    </tr>\n",
       "  </tbody>\n",
       "</table>\n",
       "</div>"
      ],
      "text/plain": [
       "                  open        high         low       close      volume  \\\n",
       "date                                                                     \n",
       "2020-01-01  216.600006  231.139999  199.500000  206.589996   304096100   \n",
       "2020-01-01   67.420502   75.028999   67.324501   71.639000   673594000   \n",
       "2020-01-01    5.968750    6.487500    5.781750    5.910750  6125412000   \n",
       "2020-01-01   28.299999   43.533333   28.114000   43.371334  6108277500   \n",
       "2020-02-01  208.669998  226.699997  198.561005  208.000000   329489900   \n",
       "\n",
       "            split_ratio  dividend symbol  \n",
       "date                                      \n",
       "2020-01-01          0.0       0.0   BABA  \n",
       "2020-01-01          0.0       0.0  GOOGL  \n",
       "2020-01-01          0.0       0.0   NVDA  \n",
       "2020-01-01          0.0       0.0   TSLA  \n",
       "2020-02-01          0.0       0.0   BABA  "
      ]
     },
     "execution_count": 3,
     "metadata": {},
     "output_type": "execute_result"
    }
   ],
   "source": [
    "data = obb.equity.price.historical('NVDA,BABA,GOOGL,TSLA',\n",
    "                                  start_date = '2020-01-01',\n",
    "                                  end_date = '2025-01-01',\n",
    "                                  interval = '1M',\n",
    "                                  provider = 'yfinance')"
   ]
  },
  {
   "cell_type": "code",
   "execution_count": 6,
   "metadata": {},
   "outputs": [
    {
     "data": {
      "text/html": [
       "<div>\n",
       "<style scoped>\n",
       "    .dataframe tbody tr th:only-of-type {\n",
       "        vertical-align: middle;\n",
       "    }\n",
       "\n",
       "    .dataframe tbody tr th {\n",
       "        vertical-align: top;\n",
       "    }\n",
       "\n",
       "    .dataframe thead th {\n",
       "        text-align: right;\n",
       "    }\n",
       "</style>\n",
       "<table border=\"1\" class=\"dataframe\">\n",
       "  <thead>\n",
       "    <tr style=\"text-align: right;\">\n",
       "      <th>symbol</th>\n",
       "      <th>BABA</th>\n",
       "      <th>GOOGL</th>\n",
       "      <th>NVDA</th>\n",
       "      <th>TSLA</th>\n",
       "    </tr>\n",
       "    <tr>\n",
       "      <th>date</th>\n",
       "      <th></th>\n",
       "      <th></th>\n",
       "      <th></th>\n",
       "      <th></th>\n",
       "    </tr>\n",
       "  </thead>\n",
       "  <tbody>\n",
       "    <tr>\n",
       "      <th>2020-01-01</th>\n",
       "      <td>206.589996</td>\n",
       "      <td>71.639000</td>\n",
       "      <td>5.91075</td>\n",
       "      <td>43.371334</td>\n",
       "    </tr>\n",
       "    <tr>\n",
       "      <th>2020-02-01</th>\n",
       "      <td>208.000000</td>\n",
       "      <td>66.962502</td>\n",
       "      <td>6.75175</td>\n",
       "      <td>44.532665</td>\n",
       "    </tr>\n",
       "    <tr>\n",
       "      <th>2020-03-01</th>\n",
       "      <td>194.479996</td>\n",
       "      <td>58.097500</td>\n",
       "      <td>6.59000</td>\n",
       "      <td>34.933334</td>\n",
       "    </tr>\n",
       "    <tr>\n",
       "      <th>2020-04-01</th>\n",
       "      <td>202.669998</td>\n",
       "      <td>67.334999</td>\n",
       "      <td>7.30700</td>\n",
       "      <td>52.125332</td>\n",
       "    </tr>\n",
       "    <tr>\n",
       "      <th>2020-05-01</th>\n",
       "      <td>207.389999</td>\n",
       "      <td>71.676003</td>\n",
       "      <td>8.87550</td>\n",
       "      <td>55.666668</td>\n",
       "    </tr>\n",
       "  </tbody>\n",
       "</table>\n",
       "</div>"
      ],
      "text/plain": [
       "symbol            BABA      GOOGL     NVDA       TSLA\n",
       "date                                                 \n",
       "2020-01-01  206.589996  71.639000  5.91075  43.371334\n",
       "2020-02-01  208.000000  66.962502  6.75175  44.532665\n",
       "2020-03-01  194.479996  58.097500  6.59000  34.933334\n",
       "2020-04-01  202.669998  67.334999  7.30700  52.125332\n",
       "2020-05-01  207.389999  71.676003  8.87550  55.666668"
      ]
     },
     "execution_count": 6,
     "metadata": {},
     "output_type": "execute_result"
    }
   ],
   "source": [
    "# Data Manipulation \n",
    "prices = data.pivot(columns = 'symbol', values = 'close')\n",
    "prices.head() "
   ]
  },
  {
   "cell_type": "markdown",
   "metadata": {},
   "source": [
    "### Portfolio Return"
   ]
  },
  {
   "cell_type": "code",
   "execution_count": null,
   "metadata": {},
   "outputs": [
    {
     "data": {
      "text/html": [
       "<div>\n",
       "<style scoped>\n",
       "    .dataframe tbody tr th:only-of-type {\n",
       "        vertical-align: middle;\n",
       "    }\n",
       "\n",
       "    .dataframe tbody tr th {\n",
       "        vertical-align: top;\n",
       "    }\n",
       "\n",
       "    .dataframe thead th {\n",
       "        text-align: right;\n",
       "    }\n",
       "</style>\n",
       "<table border=\"1\" class=\"dataframe\">\n",
       "  <thead>\n",
       "    <tr style=\"text-align: right;\">\n",
       "      <th>symbol</th>\n",
       "      <th>BABA</th>\n",
       "      <th>GOOGL</th>\n",
       "      <th>NVDA</th>\n",
       "      <th>TSLA</th>\n",
       "    </tr>\n",
       "    <tr>\n",
       "      <th>date</th>\n",
       "      <th></th>\n",
       "      <th></th>\n",
       "      <th></th>\n",
       "      <th></th>\n",
       "    </tr>\n",
       "  </thead>\n",
       "  <tbody>\n",
       "    <tr>\n",
       "      <th>2020-02-01</th>\n",
       "      <td>0.006825</td>\n",
       "      <td>-0.065279</td>\n",
       "      <td>0.142283</td>\n",
       "      <td>0.026776</td>\n",
       "    </tr>\n",
       "    <tr>\n",
       "      <th>2020-03-01</th>\n",
       "      <td>-0.065000</td>\n",
       "      <td>-0.132388</td>\n",
       "      <td>-0.023957</td>\n",
       "      <td>-0.215557</td>\n",
       "    </tr>\n",
       "    <tr>\n",
       "      <th>2020-04-01</th>\n",
       "      <td>0.042112</td>\n",
       "      <td>0.159000</td>\n",
       "      <td>0.108801</td>\n",
       "      <td>0.492137</td>\n",
       "    </tr>\n",
       "    <tr>\n",
       "      <th>2020-05-01</th>\n",
       "      <td>0.023289</td>\n",
       "      <td>0.064469</td>\n",
       "      <td>0.214657</td>\n",
       "      <td>0.067939</td>\n",
       "    </tr>\n",
       "    <tr>\n",
       "      <th>2020-06-01</th>\n",
       "      <td>0.040069</td>\n",
       "      <td>-0.010792</td>\n",
       "      <td>0.070109</td>\n",
       "      <td>0.293186</td>\n",
       "    </tr>\n",
       "  </tbody>\n",
       "</table>\n",
       "</div>"
      ],
      "text/plain": [
       "symbol          BABA     GOOGL      NVDA      TSLA\n",
       "date                                              \n",
       "2020-02-01  0.006825 -0.065279  0.142283  0.026776\n",
       "2020-03-01 -0.065000 -0.132388 -0.023957 -0.215557\n",
       "2020-04-01  0.042112  0.159000  0.108801  0.492137\n",
       "2020-05-01  0.023289  0.064469  0.214657  0.067939\n",
       "2020-06-01  0.040069 -0.010792  0.070109  0.293186"
      ]
     },
     "execution_count": 7,
     "metadata": {},
     "output_type": "execute_result"
    }
   ],
   "source": [
    "# Let's compute the returns \n",
    "returns = prices.pct_change()[1:]\n",
    "returns.head() #looks good "
   ]
  },
  {
   "cell_type": "code",
   "execution_count": null,
   "metadata": {},
   "outputs": [
    {
     "data": {
      "text/plain": [
       "symbol\n",
       "BABA    -0.137092\n",
       "GOOGL    0.232834\n",
       "NVDA     0.826242\n",
       "TSLA     0.563020\n",
       "dtype: float64"
      ]
     },
     "execution_count": 9,
     "metadata": {},
     "output_type": "execute_result"
    }
   ],
   "source": [
    "# Annualized Returns\n",
    "periods = returns.shape[0]\n",
    "annualized_returns = (1 + returns).prod() ** (12/periods) - 1\n",
    "annualized_returns "
   ]
  },
  {
   "cell_type": "code",
   "execution_count": 12,
   "metadata": {},
   "outputs": [
    {
     "data": {
      "text/plain": [
       "array([0.25, 0.25, 0.25, 0.25])"
      ]
     },
     "execution_count": 12,
     "metadata": {},
     "output_type": "execute_result"
    }
   ],
   "source": [
    "# Let's create a portfolio with equal weights \n",
    "assets = len(returns.columns) # 4\n",
    "weights = np.repeat(1/assets, assets) \n",
    "weights "
   ]
  },
  {
   "cell_type": "code",
   "execution_count": 16,
   "metadata": {},
   "outputs": [
    {
     "data": {
      "text/plain": [
       "np.float64(0.3712512650414984)"
      ]
     },
     "execution_count": 16,
     "metadata": {},
     "output_type": "execute_result"
    }
   ],
   "source": [
    "portfolio_returns = weights.T @ annualized_returns\n",
    "portfolio_returns "
   ]
  },
  {
   "cell_type": "markdown",
   "metadata": {},
   "source": [
    "### Portfolio Standard Deviation"
   ]
  },
  {
   "cell_type": "code",
   "execution_count": null,
   "metadata": {},
   "outputs": [
    {
     "data": {
      "text/html": [
       "<div>\n",
       "<style scoped>\n",
       "    .dataframe tbody tr th:only-of-type {\n",
       "        vertical-align: middle;\n",
       "    }\n",
       "\n",
       "    .dataframe tbody tr th {\n",
       "        vertical-align: top;\n",
       "    }\n",
       "\n",
       "    .dataframe thead th {\n",
       "        text-align: right;\n",
       "    }\n",
       "</style>\n",
       "<table border=\"1\" class=\"dataframe\">\n",
       "  <thead>\n",
       "    <tr style=\"text-align: right;\">\n",
       "      <th>symbol</th>\n",
       "      <th>BABA</th>\n",
       "      <th>GOOGL</th>\n",
       "      <th>NVDA</th>\n",
       "      <th>TSLA</th>\n",
       "    </tr>\n",
       "    <tr>\n",
       "      <th>symbol</th>\n",
       "      <th></th>\n",
       "      <th></th>\n",
       "      <th></th>\n",
       "      <th></th>\n",
       "    </tr>\n",
       "  </thead>\n",
       "  <tbody>\n",
       "    <tr>\n",
       "      <th>BABA</th>\n",
       "      <td>0.016321</td>\n",
       "      <td>0.002650</td>\n",
       "      <td>0.002250</td>\n",
       "      <td>0.004356</td>\n",
       "    </tr>\n",
       "    <tr>\n",
       "      <th>GOOGL</th>\n",
       "      <td>0.002650</td>\n",
       "      <td>0.006101</td>\n",
       "      <td>0.005997</td>\n",
       "      <td>0.007186</td>\n",
       "    </tr>\n",
       "    <tr>\n",
       "      <th>NVDA</th>\n",
       "      <td>0.002250</td>\n",
       "      <td>0.005997</td>\n",
       "      <td>0.021148</td>\n",
       "      <td>0.013237</td>\n",
       "    </tr>\n",
       "    <tr>\n",
       "      <th>TSLA</th>\n",
       "      <td>0.004356</td>\n",
       "      <td>0.007186</td>\n",
       "      <td>0.013237</td>\n",
       "      <td>0.045033</td>\n",
       "    </tr>\n",
       "  </tbody>\n",
       "</table>\n",
       "</div>"
      ],
      "text/plain": [
       "symbol      BABA     GOOGL      NVDA      TSLA\n",
       "symbol                                        \n",
       "BABA    0.016321  0.002650  0.002250  0.004356\n",
       "GOOGL   0.002650  0.006101  0.005997  0.007186\n",
       "NVDA    0.002250  0.005997  0.021148  0.013237\n",
       "TSLA    0.004356  0.007186  0.013237  0.045033"
      ]
     },
     "execution_count": 15,
     "metadata": {},
     "output_type": "execute_result"
    }
   ],
   "source": [
    "cov_matrix = returns.cov()\n",
    "cov_matrix "
   ]
  },
  {
   "cell_type": "code",
   "execution_count": null,
   "metadata": {},
   "outputs": [
    {
     "data": {
      "text/plain": [
       "np.float64(0.34636120377897034)"
      ]
     },
     "execution_count": 18,
     "metadata": {},
     "output_type": "execute_result"
    }
   ],
   "source": [
    "portfolio_vol = np.sqrt(weights.T@cov_matrix@weights)"
   ]
  },
  {
   "cell_type": "markdown",
   "metadata": {},
   "source": [
    "A portfolio with equal weights in the four assets would have an annualized return of 0.33.\n",
    "This was just a simple example of how to compute essential portfolio metrics. **It is obv. difficult to achieve such a return on a consistent basis** since I've picked winners of the AI revolution for this example. "
   ]
  },
  {
   "cell_type": "markdown",
   "metadata": {},
   "source": [
    "**In the next lecture we'll dive into Mean-variance Optimization.**"
   ]
  }
 ],
 "metadata": {
  "kernelspec": {
   "display_name": "Python 3",
   "language": "python",
   "name": "python3"
  },
  "language_info": {
   "codemirror_mode": {
    "name": "ipython",
    "version": 3
   },
   "file_extension": ".py",
   "mimetype": "text/x-python",
   "name": "python",
   "nbconvert_exporter": "python",
   "pygments_lexer": "ipython3",
   "version": "3.12.1"
  }
 },
 "nbformat": 4,
 "nbformat_minor": 2
}
