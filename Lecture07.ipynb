{
 "cells": [
  {
   "cell_type": "markdown",
   "metadata": {},
   "source": [
    "# Portfolio Management: Lecture 07 \n",
    "### Constant Proportion Portfolio Insurance #WIP"
   ]
  },
  {
   "cell_type": "markdown",
   "metadata": {},
   "source": [
    "This lecture is about the application of the CPPI approach. CPPI strategies provide a capital guarantee against downside risk, allowing for the construction of a convex payoff without purchasing options. This is possible thanks to the dynamic allocation between a risky asset (e.g., equities) and a safe asset (e.g., T-Bills). To implement this approach, one needs:\n",
    "\n",
    "A floor, which is the minimum portfolio value we do not want to go below.\n",
    "\n",
    "A multiple, M.\n",
    "\n",
    "A cushion, which is the difference between the current asset value and the floor.\n",
    "\n",
    "At this point, we allocate the multiple M of the cushion to the risky asset.\n",
    "\n",
    "Example:\n",
    "M = 4\n",
    "Preservation_Floor = 0.8 * Current_Portfolio_Value\n",
    "Current_Portfolio_Value = 100\n",
    "I want to allocate M * (Current_Portfolio_Value - Preservation_Floor) to the risky asset (i.e., the 80%).\n",
    "\n",
    "As you hit the floor, the allocation to the risky asset goes to 0. If you do not trade often enough, you might incur gap risk, since the loss on the risky asset exceeds the limit.\n",
    "\n",
    "In this lecture, we'll work through a floor that is equal to the maximum drawdown.\n",
    "\n",
    "Max DD Constraint: Vt > alpha * Mt\n",
    "\n",
    "Vt is the value of the portfolio at time t.\n",
    "\n",
    "Mt is the maximum value of the portfolio between time 0 and t (this is a running max process).\n",
    "\n",
    "1 - alpha is the maximum acceptable drawdown.\n",
    "\n",
    "The value of the portfolio must hence be alpha * M.\n",
    "\n",
    "Let's define a threshold level:\n",
    "\n",
    "Ft <= At <= Tt = m * (At - Ft)\n",
    "If the asset value is between the floor and the threshold, then the allocation to the risky asset should be:\n",
    "multiplier * (difference between the asset value and the floor).\n",
    "\n",
    "Tt <= At <= Ct = m * (Ct - At)\n",
    "If the asset value is between the threshold level and the cap, then the allocation to the risky asset should be:\n",
    "multiplier * (difference between the cap and the asset value).\n",
    "\n",
    "How do you pick the threshold?\n",
    "By imposing the following condition:\n",
    "\n",
    "At = Tt → Et = m * (Tt - Ft) = m * (Ct - Tt)\n",
    "\n",
    "Tt = (Ft + Ct) / 2\n",
    "\n"
   ]
  }
 ],
 "metadata": {
  "kernelspec": {
   "display_name": "Python 3",
   "language": "python",
   "name": "python3"
  },
  "language_info": {
   "codemirror_mode": {
    "name": "ipython",
    "version": 3
   },
   "file_extension": ".py",
   "mimetype": "text/x-python",
   "name": "python",
   "nbconvert_exporter": "python",
   "pygments_lexer": "ipython3",
   "version": "3.12.1"
  }
 },
 "nbformat": 4,
 "nbformat_minor": 2
}
